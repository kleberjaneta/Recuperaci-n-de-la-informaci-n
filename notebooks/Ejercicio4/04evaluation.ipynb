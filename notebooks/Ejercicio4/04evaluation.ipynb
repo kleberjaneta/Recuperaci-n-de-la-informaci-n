{
 "cells": [
  {
   "metadata": {},
   "cell_type": "markdown",
   "source": [
    "# Ejercicio 04: Evaluación de un Sistema de Recuperación de Información\n",
    "\n",
    "El objetivo de este ejercicio es evaluar la efectividad de un sistema de recuperación de información utilizando métricas como *precisión*, *recall*, *F1-score*, *Mean Average Precision (MAP)* y *Normalized Discounted Cumulative Gain (nDCG)*.\n",
    "\n",
    "Seguirás los siguientes pasos:"
   ],
   "id": "ff698db4c87d7582"
  },
  {
   "metadata": {},
   "cell_type": "markdown",
   "source": [
    "Descripción del Ejercicio\n",
    "\n",
    "1. Proporcionar un Conjunto de Datos:\n",
    "    * Corpus de Documentos: Utiliza el corpus del ejercicio anterior o un nuevo conjunto de documentos.\n",
    "    * Consultas: Define un conjunto de consultas específicas.\n",
    "    * Juicios de Relevancia: Proporciona una lista de qué documentos son relevantes para cada consulta.\n",
    "\n",
    "2. Calcular Resultados de Búsqueda:\n",
    "    * Obten los resultados ordenados de dos sistemas de recuperación para cada consulta.\n",
    "\n",
    "3. Calcular las Métricas de Evaluación:\n",
    "    * Calcular las siguientes métricas para cada sistema y consulta:\n",
    "        * Precisión en el top-k (Prec@k)\n",
    "        * Recall\n",
    "        * F1-score\n",
    "        * Mean Average Precision (MAP)\n",
    "        * nDCG\n",
    "\n",
    "4. Análisis y Comparación:\n",
    "    * Comparar los resultados de los dos sistemas utilizando las métricas calculadas.\n",
    "    * Discutir cuál sistema es más efectivo y por qué."
   ],
   "id": "a79fed129105d246"
  },
  {
   "cell_type": "code",
   "execution_count": null,
   "id": "initial_id",
   "metadata": {
    "collapsed": true
   },
   "outputs": [],
   "source": [
    ""
   ]
  }
 ],
 "metadata": {
  "kernelspec": {
   "display_name": "Python 3",
   "language": "python",
   "name": "python3"
  },
  "language_info": {
   "codemirror_mode": {
    "name": "ipython",
    "version": 2
   },
   "file_extension": ".py",
   "mimetype": "text/x-python",
   "name": "python",
   "nbconvert_exporter": "python",
   "pygments_lexer": "ipython2",
   "version": "2.7.6"
  }
 },
 "nbformat": 4,
 "nbformat_minor": 5
}
