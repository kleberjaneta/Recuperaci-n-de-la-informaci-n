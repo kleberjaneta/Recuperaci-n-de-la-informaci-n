{
 "cells": [
  {
   "metadata": {},
   "cell_type": "markdown",
   "source": [
    "# Ejercicio 02: Cálculo de la Matriz TF-IDF y Búsqueda de Consultas en un Corpus\n",
    "\n",
    "El objetivo de este ejercicio es calcular la matriz TF-IDF de un corpus de documentos y luego aplicar una serie de consultas para recuperar los documentos más relevantes. Este ejercicio te ayudará a comprender cómo funciona el modelo de espacio vectorial y cómo se utiliza TF-IDF para ponderar términos en documentos y consultas.\n",
    "\n",
    "Seguirás los siguientes pasos:"
   ],
   "id": "2d2219b455c1e0ef"
  },
  {
   "metadata": {},
   "cell_type": "markdown",
   "source": [
    "Pasos del Ejercicio\n",
    "\n",
    "1. Preprocesamiento del texto:\n",
    "    * Lectura del corpus desde el archivo TXT.\n",
    "    * Tokenización de los documentos.\n",
    "    * Normalización del texto (conversión a minúsculas, eliminación de signos de puntuación).\n",
    "    * Eliminación de palabras vacías (stopwords).\n",
    "\n",
    "2. Construcción de la matriz TF-IDF:\n",
    "    * Cálculo de la frecuencia de término (TF) para cada término en cada documento.\n",
    "    * Cálculo de la frecuencia inversa de documento (IDF) para cada término en el corpus.\n",
    "    * Cálculo del peso TF-IDF para cada término en cada documento.\n",
    "\n",
    "3. Procesamiento de las consultas:\n",
    "    * Preprocesamiento de las consultas de manera similar a los documentos.\n",
    "    * Representación de las consultas en el espacio vectorial TF-IDF.\n",
    "\n",
    "4. Cálculo de similitudes:\n",
    "    * Cálculo de la similitud entre cada consulta y los documentos del corpus utilizando la similitud del coseno.\n",
    "\n",
    "5. Ranking de documentos:\n",
    "    * Ordenar los documentos de mayor a menor similitud para cada consulta.\n",
    "    * Mostrar los documentos más relevantes para cada consulta."
   ],
   "id": "8fa1290fb0f5143d"
  },
  {
   "metadata": {},
   "cell_type": "markdown",
   "source": [
    "Consultas\n",
    "\n",
    "Las consultas a aplicar son las siguientes:\n",
    "\n",
    "    \"inteligencia artificial en medicina\"\n",
    "    \"beneficios de la educación a distancia\"\n",
    "    \"realidad aumentada en videojuegos\"\n",
    "    \"desarrollo personal y hábitos saludables\"\n",
    "    \"futuro del comercio electrónico\"\n",
    "    \"tecnologías en cine moderno\"\n",
    "    \"competencias de e-sports\"\n",
    "    \"diagnóstico con dispositivos portátiles\"\n",
    "    \"literatura de ciencia ficción\"\n",
    "    \"plataformas de streaming\""
   ],
   "id": "431356e916e78a3f"
  },
  {
   "cell_type": "code",
   "execution_count": null,
   "id": "initial_id",
   "metadata": {
    "collapsed": true
   },
   "outputs": [],
   "source": [
    ""
   ]
  }
 ],
 "metadata": {
  "kernelspec": {
   "display_name": "Python 3",
   "language": "python",
   "name": "python3"
  },
  "language_info": {
   "codemirror_mode": {
    "name": "ipython",
    "version": 2
   },
   "file_extension": ".py",
   "mimetype": "text/x-python",
   "name": "python",
   "nbconvert_exporter": "python",
   "pygments_lexer": "ipython2",
   "version": "2.7.6"
  }
 },
 "nbformat": 4,
 "nbformat_minor": 5
}
