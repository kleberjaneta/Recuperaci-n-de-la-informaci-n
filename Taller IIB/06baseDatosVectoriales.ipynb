{
  "cells": [
    {
      "cell_type": "markdown",
      "metadata": {
        "id": "M4Vvs3umyF-T"
      },
      "source": [
        "# Preparacion del Dataset\n"
      ]
    },
    {
      "cell_type": "markdown",
      "metadata": {
        "id": "FMvkmRMGoGDi"
      },
      "source": [
        "Almacenar el csv en un dataframe"
      ]
    },
    {
      "cell_type": "code",
      "execution_count": 9,
      "metadata": {
        "id": "-7aDLHtnvV7B"
      },
      "outputs": [],
      "source": [
        "import pandas as pd\n",
        "archivo_csv = 'wiki_movie_plots_deduped.csv'\n",
        "df = pd.read_csv(archivo_csv)"
      ]
    },
    {
      "cell_type": "markdown",
      "metadata": {
        "id": "ijLaGPoTzEE9"
      },
      "source": [
        "Mantener solo las columnas relevantes"
      ]
    },
    {
      "cell_type": "code",
      "execution_count": 10,
      "metadata": {
        "colab": {
          "base_uri": "https://localhost:8080/",
          "height": 310
        },
        "id": "bsPoO0TmyVep",
        "outputId": "5f027a45-91a2-4d03-f69a-b86d4e1cd7bb"
      },
      "outputs": [
        {
          "data": {
            "text/html": [
              "<div>\n",
              "<style scoped>\n",
              "    .dataframe tbody tr th:only-of-type {\n",
              "        vertical-align: middle;\n",
              "    }\n",
              "\n",
              "    .dataframe tbody tr th {\n",
              "        vertical-align: top;\n",
              "    }\n",
              "\n",
              "    .dataframe thead th {\n",
              "        text-align: right;\n",
              "    }\n",
              "</style>\n",
              "<table border=\"1\" class=\"dataframe\">\n",
              "  <thead>\n",
              "    <tr style=\"text-align: right;\">\n",
              "      <th></th>\n",
              "      <th>Release Year</th>\n",
              "      <th>Title</th>\n",
              "      <th>Plot</th>\n",
              "    </tr>\n",
              "  </thead>\n",
              "  <tbody>\n",
              "    <tr>\n",
              "      <th>0</th>\n",
              "      <td>1901</td>\n",
              "      <td>Kansas Saloon Smashers</td>\n",
              "      <td>A bartender is working at a saloon, serving dr...</td>\n",
              "    </tr>\n",
              "    <tr>\n",
              "      <th>1</th>\n",
              "      <td>1901</td>\n",
              "      <td>Love by the Light of the Moon</td>\n",
              "      <td>The moon, painted with a smiling face hangs ov...</td>\n",
              "    </tr>\n",
              "    <tr>\n",
              "      <th>2</th>\n",
              "      <td>1901</td>\n",
              "      <td>The Martyred Presidents</td>\n",
              "      <td>The film, just over a minute long, is composed...</td>\n",
              "    </tr>\n",
              "    <tr>\n",
              "      <th>3</th>\n",
              "      <td>1901</td>\n",
              "      <td>Terrible Teddy, the Grizzly King</td>\n",
              "      <td>Lasting just 61 seconds and consisting of two ...</td>\n",
              "    </tr>\n",
              "    <tr>\n",
              "      <th>4</th>\n",
              "      <td>1902</td>\n",
              "      <td>Jack and the Beanstalk</td>\n",
              "      <td>The earliest known adaptation of the classic f...</td>\n",
              "    </tr>\n",
              "  </tbody>\n",
              "</table>\n",
              "</div>"
            ],
            "text/plain": [
              "   Release Year                             Title  \\\n",
              "0          1901            Kansas Saloon Smashers   \n",
              "1          1901     Love by the Light of the Moon   \n",
              "2          1901           The Martyred Presidents   \n",
              "3          1901  Terrible Teddy, the Grizzly King   \n",
              "4          1902            Jack and the Beanstalk   \n",
              "\n",
              "                                                Plot  \n",
              "0  A bartender is working at a saloon, serving dr...  \n",
              "1  The moon, painted with a smiling face hangs ov...  \n",
              "2  The film, just over a minute long, is composed...  \n",
              "3  Lasting just 61 seconds and consisting of two ...  \n",
              "4  The earliest known adaptation of the classic f...  "
            ]
          },
          "execution_count": 10,
          "metadata": {},
          "output_type": "execute_result"
        }
      ],
      "source": [
        "df_final = df[['Release Year','Title', 'Plot']]\n",
        "df_final.head()"
      ]
    },
    {
      "cell_type": "markdown",
      "metadata": {
        "id": "IkKsBYMy00My"
      },
      "source": [
        "Verificar si existen valores nulos"
      ]
    },
    {
      "cell_type": "code",
      "execution_count": 11,
      "metadata": {
        "colab": {
          "base_uri": "https://localhost:8080/",
          "height": 178
        },
        "id": "8sBx26ioyVlx",
        "outputId": "0e7ea3ea-8a7d-4521-b028-acc0b2ffe17f"
      },
      "outputs": [
        {
          "data": {
            "text/plain": [
              "Release Year    0\n",
              "Title           0\n",
              "Plot            0\n",
              "dtype: int64"
            ]
          },
          "execution_count": 11,
          "metadata": {},
          "output_type": "execute_result"
        }
      ],
      "source": [
        "df_final.isna().sum()"
      ]
    },
    {
      "cell_type": "markdown",
      "metadata": {
        "id": "XM8K9SlA189z"
      },
      "source": [
        "Convertir a minusculas y eliminar signos de puntuación"
      ]
    },
    {
      "cell_type": "code",
      "execution_count": 12,
      "metadata": {
        "colab": {
          "base_uri": "https://localhost:8080/"
        },
        "id": "X461K_4tyVpN",
        "outputId": "c69ad699-a77e-4b9c-cad5-c654a23078b6"
      },
      "outputs": [
        {
          "name": "stderr",
          "output_type": "stream",
          "text": [
            "C:\\Users\\dicam\\AppData\\Local\\Temp\\ipykernel_17520\\2429903571.py:1: SettingWithCopyWarning: \n",
            "A value is trying to be set on a copy of a slice from a DataFrame.\n",
            "Try using .loc[row_indexer,col_indexer] = value instead\n",
            "\n",
            "See the caveats in the documentation: https://pandas.pydata.org/pandas-docs/stable/user_guide/indexing.html#returning-a-view-versus-a-copy\n",
            "  df_final.loc[:, 'textoLimpio'] = df_final['Plot'].str.lower().str.replace('.', '', regex=False).str.replace(',', '', regex=False)\n"
          ]
        }
      ],
      "source": [
        "df_final.loc[:, 'textoLimpio'] = df_final['Plot'].str.lower().str.replace('.', '', regex=False).str.replace(',', '', regex=False)\n"
      ]
    },
    {
      "cell_type": "code",
      "execution_count": 13,
      "metadata": {
        "colab": {
          "base_uri": "https://localhost:8080/",
          "height": 345
        },
        "id": "LmzVAfx42tRB",
        "outputId": "52eda5a7-1b4a-4b76-eceb-840b78681ec6"
      },
      "outputs": [
        {
          "data": {
            "text/html": [
              "<div>\n",
              "<style scoped>\n",
              "    .dataframe tbody tr th:only-of-type {\n",
              "        vertical-align: middle;\n",
              "    }\n",
              "\n",
              "    .dataframe tbody tr th {\n",
              "        vertical-align: top;\n",
              "    }\n",
              "\n",
              "    .dataframe thead th {\n",
              "        text-align: right;\n",
              "    }\n",
              "</style>\n",
              "<table border=\"1\" class=\"dataframe\">\n",
              "  <thead>\n",
              "    <tr style=\"text-align: right;\">\n",
              "      <th></th>\n",
              "      <th>Release Year</th>\n",
              "      <th>Title</th>\n",
              "      <th>Plot</th>\n",
              "      <th>textoLimpio</th>\n",
              "    </tr>\n",
              "  </thead>\n",
              "  <tbody>\n",
              "    <tr>\n",
              "      <th>0</th>\n",
              "      <td>1901</td>\n",
              "      <td>Kansas Saloon Smashers</td>\n",
              "      <td>A bartender is working at a saloon, serving dr...</td>\n",
              "      <td>a bartender is working at a saloon serving dri...</td>\n",
              "    </tr>\n",
              "    <tr>\n",
              "      <th>1</th>\n",
              "      <td>1901</td>\n",
              "      <td>Love by the Light of the Moon</td>\n",
              "      <td>The moon, painted with a smiling face hangs ov...</td>\n",
              "      <td>the moon painted with a smiling face hangs ove...</td>\n",
              "    </tr>\n",
              "    <tr>\n",
              "      <th>2</th>\n",
              "      <td>1901</td>\n",
              "      <td>The Martyred Presidents</td>\n",
              "      <td>The film, just over a minute long, is composed...</td>\n",
              "      <td>the film just over a minute long is composed o...</td>\n",
              "    </tr>\n",
              "    <tr>\n",
              "      <th>3</th>\n",
              "      <td>1901</td>\n",
              "      <td>Terrible Teddy, the Grizzly King</td>\n",
              "      <td>Lasting just 61 seconds and consisting of two ...</td>\n",
              "      <td>lasting just 61 seconds and consisting of two ...</td>\n",
              "    </tr>\n",
              "    <tr>\n",
              "      <th>4</th>\n",
              "      <td>1902</td>\n",
              "      <td>Jack and the Beanstalk</td>\n",
              "      <td>The earliest known adaptation of the classic f...</td>\n",
              "      <td>the earliest known adaptation of the classic f...</td>\n",
              "    </tr>\n",
              "  </tbody>\n",
              "</table>\n",
              "</div>"
            ],
            "text/plain": [
              "   Release Year                             Title  \\\n",
              "0          1901            Kansas Saloon Smashers   \n",
              "1          1901     Love by the Light of the Moon   \n",
              "2          1901           The Martyred Presidents   \n",
              "3          1901  Terrible Teddy, the Grizzly King   \n",
              "4          1902            Jack and the Beanstalk   \n",
              "\n",
              "                                                Plot  \\\n",
              "0  A bartender is working at a saloon, serving dr...   \n",
              "1  The moon, painted with a smiling face hangs ov...   \n",
              "2  The film, just over a minute long, is composed...   \n",
              "3  Lasting just 61 seconds and consisting of two ...   \n",
              "4  The earliest known adaptation of the classic f...   \n",
              "\n",
              "                                         textoLimpio  \n",
              "0  a bartender is working at a saloon serving dri...  \n",
              "1  the moon painted with a smiling face hangs ove...  \n",
              "2  the film just over a minute long is composed o...  \n",
              "3  lasting just 61 seconds and consisting of two ...  \n",
              "4  the earliest known adaptation of the classic f...  "
            ]
          },
          "execution_count": 13,
          "metadata": {},
          "output_type": "execute_result"
        }
      ],
      "source": [
        "df_final.head()"
      ]
    },
    {
      "cell_type": "markdown",
      "metadata": {
        "id": "VMkJCqn16xU1"
      },
      "source": [
        "Tokenizacion"
      ]
    },
    {
      "cell_type": "code",
      "execution_count": 14,
      "metadata": {
        "colab": {
          "base_uri": "https://localhost:8080/"
        },
        "id": "ENFHMWJe6QuF",
        "outputId": "de7e018b-5ae0-42b3-821f-b39c2f75347e"
      },
      "outputs": [
        {
          "name": "stderr",
          "output_type": "stream",
          "text": [
            "[nltk_data] Downloading package punkt_tab to\n",
            "[nltk_data]     C:\\Users\\dicam\\AppData\\Roaming\\nltk_data...\n",
            "[nltk_data]   Package punkt_tab is already up-to-date!\n",
            "C:\\Users\\dicam\\AppData\\Local\\Temp\\ipykernel_17520\\2161189076.py:5: SettingWithCopyWarning: \n",
            "A value is trying to be set on a copy of a slice from a DataFrame.\n",
            "Try using .loc[row_indexer,col_indexer] = value instead\n",
            "\n",
            "See the caveats in the documentation: https://pandas.pydata.org/pandas-docs/stable/user_guide/indexing.html#returning-a-view-versus-a-copy\n",
            "  df_final.loc[:, 'tokens'] = df_final['textoLimpio'].apply(word_tokenize)\n"
          ]
        }
      ],
      "source": [
        "import nltk\n",
        "nltk.download('punkt_tab')\n",
        "from nltk.tokenize import word_tokenize\n",
        "\n",
        "df_final.loc[:, 'tokens'] = df_final['textoLimpio'].apply(word_tokenize)"
      ]
    },
    {
      "cell_type": "code",
      "execution_count": 15,
      "metadata": {
        "colab": {
          "base_uri": "https://localhost:8080/",
          "height": 156
        },
        "id": "kezzKTeFubP4",
        "outputId": "3d0c28ee-63e3-4174-996a-75aa5fa09b60"
      },
      "outputs": [
        {
          "data": {
            "text/plain": [
              "<bound method Downloader.download of <nltk.downloader.Downloader object at 0x0000023F79FBFEC0>>"
            ]
          },
          "execution_count": 15,
          "metadata": {},
          "output_type": "execute_result"
        }
      ],
      "source": [
        "import nltk\n",
        "nltk.download"
      ]
    },
    {
      "cell_type": "code",
      "execution_count": 16,
      "metadata": {
        "colab": {
          "base_uri": "https://localhost:8080/",
          "height": 467
        },
        "id": "LRlas9P87GHN",
        "outputId": "0a6f4000-d96a-442a-9ca8-7ecf6b7f07a8"
      },
      "outputs": [
        {
          "data": {
            "text/html": [
              "<div>\n",
              "<style scoped>\n",
              "    .dataframe tbody tr th:only-of-type {\n",
              "        vertical-align: middle;\n",
              "    }\n",
              "\n",
              "    .dataframe tbody tr th {\n",
              "        vertical-align: top;\n",
              "    }\n",
              "\n",
              "    .dataframe thead th {\n",
              "        text-align: right;\n",
              "    }\n",
              "</style>\n",
              "<table border=\"1\" class=\"dataframe\">\n",
              "  <thead>\n",
              "    <tr style=\"text-align: right;\">\n",
              "      <th></th>\n",
              "      <th>Release Year</th>\n",
              "      <th>Title</th>\n",
              "      <th>Plot</th>\n",
              "      <th>textoLimpio</th>\n",
              "      <th>tokens</th>\n",
              "    </tr>\n",
              "  </thead>\n",
              "  <tbody>\n",
              "    <tr>\n",
              "      <th>0</th>\n",
              "      <td>1901</td>\n",
              "      <td>Kansas Saloon Smashers</td>\n",
              "      <td>A bartender is working at a saloon, serving dr...</td>\n",
              "      <td>a bartender is working at a saloon serving dri...</td>\n",
              "      <td>[a, bartender, is, working, at, a, saloon, ser...</td>\n",
              "    </tr>\n",
              "    <tr>\n",
              "      <th>1</th>\n",
              "      <td>1901</td>\n",
              "      <td>Love by the Light of the Moon</td>\n",
              "      <td>The moon, painted with a smiling face hangs ov...</td>\n",
              "      <td>the moon painted with a smiling face hangs ove...</td>\n",
              "      <td>[the, moon, painted, with, a, smiling, face, h...</td>\n",
              "    </tr>\n",
              "    <tr>\n",
              "      <th>2</th>\n",
              "      <td>1901</td>\n",
              "      <td>The Martyred Presidents</td>\n",
              "      <td>The film, just over a minute long, is composed...</td>\n",
              "      <td>the film just over a minute long is composed o...</td>\n",
              "      <td>[the, film, just, over, a, minute, long, is, c...</td>\n",
              "    </tr>\n",
              "    <tr>\n",
              "      <th>3</th>\n",
              "      <td>1901</td>\n",
              "      <td>Terrible Teddy, the Grizzly King</td>\n",
              "      <td>Lasting just 61 seconds and consisting of two ...</td>\n",
              "      <td>lasting just 61 seconds and consisting of two ...</td>\n",
              "      <td>[lasting, just, 61, seconds, and, consisting, ...</td>\n",
              "    </tr>\n",
              "    <tr>\n",
              "      <th>4</th>\n",
              "      <td>1902</td>\n",
              "      <td>Jack and the Beanstalk</td>\n",
              "      <td>The earliest known adaptation of the classic f...</td>\n",
              "      <td>the earliest known adaptation of the classic f...</td>\n",
              "      <td>[the, earliest, known, adaptation, of, the, cl...</td>\n",
              "    </tr>\n",
              "  </tbody>\n",
              "</table>\n",
              "</div>"
            ],
            "text/plain": [
              "   Release Year                             Title  \\\n",
              "0          1901            Kansas Saloon Smashers   \n",
              "1          1901     Love by the Light of the Moon   \n",
              "2          1901           The Martyred Presidents   \n",
              "3          1901  Terrible Teddy, the Grizzly King   \n",
              "4          1902            Jack and the Beanstalk   \n",
              "\n",
              "                                                Plot  \\\n",
              "0  A bartender is working at a saloon, serving dr...   \n",
              "1  The moon, painted with a smiling face hangs ov...   \n",
              "2  The film, just over a minute long, is composed...   \n",
              "3  Lasting just 61 seconds and consisting of two ...   \n",
              "4  The earliest known adaptation of the classic f...   \n",
              "\n",
              "                                         textoLimpio  \\\n",
              "0  a bartender is working at a saloon serving dri...   \n",
              "1  the moon painted with a smiling face hangs ove...   \n",
              "2  the film just over a minute long is composed o...   \n",
              "3  lasting just 61 seconds and consisting of two ...   \n",
              "4  the earliest known adaptation of the classic f...   \n",
              "\n",
              "                                              tokens  \n",
              "0  [a, bartender, is, working, at, a, saloon, ser...  \n",
              "1  [the, moon, painted, with, a, smiling, face, h...  \n",
              "2  [the, film, just, over, a, minute, long, is, c...  \n",
              "3  [lasting, just, 61, seconds, and, consisting, ...  \n",
              "4  [the, earliest, known, adaptation, of, the, cl...  "
            ]
          },
          "execution_count": 16,
          "metadata": {},
          "output_type": "execute_result"
        }
      ],
      "source": [
        "df_final.head()"
      ]
    },
    {
      "cell_type": "markdown",
      "metadata": {},
      "source": [
        "# TF-IDF\n"
      ]
    },
    {
      "cell_type": "code",
      "execution_count": 45,
      "metadata": {},
      "outputs": [],
      "source": [
        "from sklearn.feature_extraction.text import TfidfVectorizer\n",
        "from sklearn.metrics.pairwise import cosine_similarity\n",
        "\n",
        "# Configuración de TF-IDF\n",
        "tfidf_vectorizer = TfidfVectorizer(stop_words='english')\n",
        "tfidf_matrix = tfidf_vectorizer.fit_transform(df_final['Plot'])  # Matriz TF-IDF\n",
        "\n",
        "# Función para búsqueda con TF-IDF\n",
        "def busqueda_tfidf(consulta, tfidf_vectorizer, tfidf_matrix, df):\n",
        "    # Transformar la consulta en un vector TF-IDF\n",
        "    consulta_vector = tfidf_vectorizer.transform([consulta])\n",
        "    # Calcular similitud de coseno\n",
        "    similitudes = cosine_similarity(consulta_vector, tfidf_matrix).flatten()\n",
        "    # Obtener índices de los documentos más similares\n",
        "    top_indices = similitudes.argsort()[::-1][:5]\n",
        "    # Recuperar los documentos correspondientes\n",
        "    resultados = df.iloc[top_indices][['Title', 'Plot']].to_dict('records')\n",
        "    return resultados\n"
      ]
    },
    {
      "cell_type": "code",
      "execution_count": 46,
      "metadata": {},
      "outputs": [
        {
          "name": "stdout",
          "output_type": "stream",
          "text": [
            "Título: We're Back! A Dinosaur's Story\n",
            "Trama: In present-day New York City, an Eastern bluebird named Buster runs away from his siblings and he meets an intelligent orange Tyrannosaurus named Rex, who is playing golf. He explains to Buster that he was once a ravaging dinosaur, and proceeds to tell his personal story.\n",
            "In a prehistoric jungle, Rex is terrorizing other dinosaurs such as this Thescelosaurus he is pursuing when a spaceship lands on Earth with a little alien named Vorb. Vorb captures Rex and gives him \"Brain Grain\", a special breakfast cereal that vastly increases Rex's intelligence. Rex is given his name and introduced to other dinosaurs that are also anthropomorphized by the magic of Brain Grain: a blue Triceratops named Woog, a purple Pteranodon named Elsa and a green Parasaurolophus named Dweeb. They soon meet Vorb's employer Captain Neweyes, the inventor of Brain Grain, who reveals his goal of allowing the children of the present time to see real dinosaurs, fulfilling their biggest wishes. He plans to take them to Doctor Julia Bleeb who will guide them to the American Museum of Natural History, and warns them to avoid Professor Screweyes, his insane brother.\n",
            "Neweyes drops the dinosaurs off in the Hudson River in the present day, but they are unable to meet with Bleeb. Instead, they meet a young boy named Louie, who plans on running away to join the circus. Louie agrees to help the dinosaurs get to the museum. Riding on Elsa, Louie soon encounters a girl named Cecilia, who is miserable with her life because of her neglectful parents. She agrees to run away with Louie and help the dinosaurs. To prevent mass panic, Louie decides that the dinosaurs need to stay hidden during their journey to the museum. He disguises them as floats in the Macy's Thanksgiving Day Parade. During the parade, Rex hears all the children wishing to see real dinosaurs, so he starts to sing \"Roll Back the Rock (To the Dawn of Time)\". But when he sees the Apatosaurus balloon coming out in the parade, Rex mistakes it for being real and hand shakes it too tight with his claws, causing its air sealer to pop open. The balloon runs out of air and falls on the dinosaurs, who are otherwise unharmed. When the audience realizes that live dinosaurs are among them, they fly into a panic and the dinosaurs escape and flee to Central Park in a red pick up truck while being pursued by the police and the army at the same time.\n",
            "Meanwhile, Louie and Cecilia meet Professor Screweyes himself, who is running his \"Eccentric Circus\". Unaware of Screweyes' sinister nature, the children sign a contract to perform in his circus troupe. However, when the dinosaurs arrive at the circus, Screweyes explains that he delights in scaring people and believes that the dinosaurs would make a great addition to his circus. Using his \"Brain Drain\", pills that are the polar opposite of his brother's Brain Grain, Screweyes devolves Louie and Cecilia into chimpanzees. When he offers the dinosaurs to consume the pills and join his circus, they reluctantly accept and Screweyes releases Louie and Cecilia. Knowing their friendship will be lost forever, Rex transforms Louie and Cecilia back to their human form by removing the effects of the Brain Drain with his gentle pats. And before leaving, he sadly tells the two children to remember him.\n",
            "As the kids awake the next morning, they are greeted by a circus clown named Stubbs, who works for Professor Screweyes. Upon seeing the dinosaurs returned to their natural savage states, Louie and Cecilia, with the help of Stubbs, plan to sneak into the night's show and save the dinosaurs. That night, Professor Screweyes opens his circus with the Grand Demon Parade and unveils the dinosaurs before the very eyes of his audience. Screweyes says he can control Rex, and proceeds to hypnotize him. Everyone watching the show gets frightened during the performance, and many run away. However, a crow unintentionally activates the flare lights, breaking Rex out of the trance on purpose. Realizing he has been tricked, Rex becomes enraged and repeatedly attempts to eat Screweyes. However, Louie steps in and desperately tells Rex that killing Screweyes will not be worth it. When Rex does not understand his words, Louie tearfully begs him to put Screweyes down, telling him to \"be a king\" (a translation for the word \"rex\"). Touched by Louie's impassioned pleas, Rex changes back to his intelligent state and releases Screweyes. And to Screweyes' shock, the audience cheered with wonder and joy as Louie hugs Rex, then he and Cecilia also return Elsa, Woog and Dweeb to their kind and friendly natures. A moment later, Captain Neweyes arrives in his ship and congratulates Louie and Cecilia, who proceed to kiss in front of a whole crowd of people. Stubbs announces his resignation from Professor Screweyes' employ. Neweyes, Louie, Cecilia and the dinosaurs board the aircraft, leaving Screweyes to be swarmed upon and devoured by the crows.\n",
            "The dinosaurs spend the rest of their days in the museum, allowing children to see live dinosaurs, and thus fulfilling their wishes. Back in the present, Rex told Buster that he and his fellow dinosaurs are still in the museum. He even explains that Louie and Cecilia reconciled with their respective parents, and the two became a couple. Rex returns Buster to his family and tells him to remember his story and before leaving for the museum.\n",
            "\n",
            "Título: Theodore Rex\n",
            "Trama: In an alternate futuristic society where humans and anthropomorphic dinosaurs co-exist, a tough police detective named Katie Coltraine (Whoopi Goldberg) is paired with a Tyrannosaurus named Theodore Rex (George Newbern) to find the killer of dinosaurs and other prehistoric animals leading them to a ruthless billionaire bent on killing off mankind by creating a new ice age.\n",
            "\n",
            "Título: Future War\n",
            "Trama: Future War begins aboard a spaceship undergoing a revolt. A man enters and activates an escape pod which travels to Earth and crashes into the Pacific Ocean. The pod contains “The Runaway”, a human slave played by Daniel Bernhardt. He is being pursued by cyborg slavers and dinosaurs that they use as “trackers.” Since he was kidnapped some time from Earth’s past, The Runaway is familiar with the English language and the King James Bible, and he regards Earth as a literal heaven.\n",
            "The Runaway finds refuge with novice nun Sister Ann (Travis Brooks Stewart), whose past involved dealing drugs and prostitution. Together, they fight the dinosaurs and their robotic masters, seeking help from a street gang. Future War features star Daniel Bernhardt’s kickboxing skills in several fight sequences, including against the Cyborg Master (Robert Z'Dar).\n",
            "After being arrested as a suspect in a rash of deaths due to strange animal attacks, The Runaway is interrogated by federal agents. They present to him a dinosaur collar found on the beach. The Cyborg Master breaks into the police station during the interrogation and The Runaway manages to escape in the confusion. He returns to Sister Ann and her gang friends with a plan to attack the dinosaurs where they live, as Runaway simply explains, \"Near water...\".\n",
            "Using dynamite, The Runaway successfully destroys a water treatment plant, killing the dinosaurs. Later, though, the surviving Cyborg Master attacks The Runaway while he watches Sister Ann make her final vows to become a nun. After The Runaway finally kills the Cyborg Master, he becomes a counselor for runaway teens, working closely with Sister Ann.\n",
            "\n",
            "Título: The Dinosaur Project\n",
            "Trama: A group of explorers from the British Cryptozoological Society goes on an expedition into the Congo in search of a cryptid—the so-called Mokele-mbembe—which is believed to be a Plesiosaur. Along with the five explorers are two television cameramen who will be recording the whole expedition. The explorers consist of their leader Jonathan, their medic Liz, their sponsor organiser Charlie, their pilot, and a local guide, named Amara. During the helicopter flight, Johnathan discovers that his son Luke sneaked into the chopper as a stowaway.\n",
            "Shortly after that, a flock of large flying reptiles appears next to the helicopter and one of them crashes into the chopper blades, causing the helicopter to crash. The pilot dies in the crash and everyone else escapes just before the chopper explodes. Now lost, they discover that the satellite phone they had with them was broken during the crash, Amara suggests that they should head to the village they saw while they were in the helicopter. Upon arriving, the group discovers that the villagers have been killed and the village destroyed. Johnathan chooses a hut to stay in for the night and his son, who is technically talented, installs a night vision camera outside the hut.\n",
            "At night, everyone is woken up by strange noises and Luke sees a swarm of bat-like reptiles outside the hut on the monitor linked to his night vision camera. Charlie accidentally alerts the creatures by making a noise and they try to flee from the village which is infested with the animals. Liz is attacked and killed while the rest escape in a pair of wooden boats and spend the night and part of the day on the river, until they arrive on a small island. On that island they encounter a group of dinosaurs with one in particular that seems to like Luke, which he decides to name Crypto. He spits a fluid on Luke. The next morning, they discover that the dinosaurs are still there and Luke decides to attach one of his cameras onto Crypto's neck to see where he would go to. The broadcast cuts out as the dinosaurs swim into a cave.\n",
            "The group heads back on the river when the broadcast returns and Luke and Charlie see that the dinosaurs went straight to where they originated, some kind of underground gateway, where the camera is dropped. When they try to steer through a whitewater, Luke's and Charlie's boat gets separated and drifts off towards the cave where the dinosaurs went earlier. The rest of the explorers follow them and rejoining them in a river canyon, they encounter a Plesiosaur. A suddenly emerging Pliosaur attacks the group. Charlie and Luke get out of the water, believing that the rest of the group died and continue to search for the place where the dinosaurs came from, in the jungle. Eventually they arrive there and when Charlie learns that Luke has fixed the satellite phone, he pushes Luke down into the gateway, intending to kill him.\n",
            "On the other side of the underground passageway, Luke speaks into the camera, trying to reach the other survivors via the monitor. In the next scene the survivors are seen walking around at the river beach amidst the remains of the boats, the camera monitor lies shattered on the ground. Amara reveals that she was supposed to lead the group to do some records at a safe place in the jungle but she refuses to go towards the gateway and leaves, taking one of the boats. Jonathan and Pete continue the search for Luke and Charlie. In the meantime, Luke meets Crypto and follows him deeper into the jungle, where he is attacked by the bat-like creatures. He is rescued by Pete, who suddenly appears together with Jonathan and drives off the creatures. Pete chases them into the jungle, when he is suddenly encircled by the creatures who attack and presumably kill him. Charlie is seen, speaking to the camera at an unknown place, when he is interrupted and forced to hide by Jonathan and Luke, continuing through the jungle. They follow a steep cliffway, when they are hit by a rockfall, causing Jonathan almost to fall down the cliff. As Luke looks up, Charlie is seen with a stick in his hands, indicating that he caused the rocks to fall. Luke tries to help his father who is holding onto a rock, but, telling him that he loves him, he lets go of the rock and falls down the cliff.\n",
            "Luke escapes from Charlie and hides in the dense jungle, evading Charlie who is chasing him, when he meets the little dinosaur once more who leads him to the place where he dropped his camera earlier, when suddenly Charlie emerges in front of him, intending to kill him. Crypto spits the fluid into Luke's face, when two adult dinosaurs appear just behind Charlie, sniffing on Luke and smelling the fluid, they leave him alone and kill Charlie.\n",
            "Luke proceeds into the jungle and stops at a high cliff, filming himself and the little dinosaur, saying that the satellite phone has been crushed again and that he has to destroy the cameras to use the parts, he waves the camera over the view from the cliff, showing a big valley full of dinosaurs. In the next scene he is seen throwing the backpack down a waterfall into a river, as a message. Luke's fate is unknown.\n",
            "The floating backpack is found by men in a boat, who find video hard drives and tapes labelled \"the Dinosaur Project\" inside. In a blurry video, Luke says \"I think it works\".\n",
            "\n",
            "Título: Adhisaya Ulagam\n",
            "Trama: Professor Neelakantan (J. Livingston) is an maverick Indian scientist and inventor who develops and constructs a time machine, and begins experimenting with it. He realises that his machine requires a recognised \"object\" to work, and he therefore seeks to locate such an object that can be transported in time through his machine. He jokingly tells his pet dog that he would use it as the \"object\".\n",
            "Varsha (Sreelakhsmy N. Nair) and Vikas (Prithvi) are Neelakantan's mischievous granddaughter and grandson who live with their parents and are very fond of the grandfather. While on a visit, the two children enter Neelakantan's laboratory in his absence and start playing with the dog. Varsha throws a ball that strikes the time machine's control screen and accidentally turns on the device, which recognises Varsha and Vikas as transferable \"objects\". Neelakantan enters the room and is shocked to see the machine's condition, but it is too late. As he tries to save the kids, he too is recognised as an \"object\" by the machine, and his grandchildren and he are accidentally transported to the age of dinosaurs.\n",
            "In the prehistoric world Neelakantan and his grandchildren encounter animals that are now extinct, including several species of dangerous dinosaurs. At first they are afraid and struggle to understand what to do. But, gradually they try to be friends with a dinosaurs. They wish to return to the modern times, but for that they would require a source of electricity, which does not exist in the prehistoric times they have been transported to. How they survive their circumstances and finally manage to return to their own age is the main plot of the film.\n",
            "\n"
          ]
        }
      ],
      "source": [
        "# Ejemplo de búsqueda\n",
        "resultados_tfidf = busqueda_tfidf(\"dinosaurs\", tfidf_vectorizer, tfidf_matrix, df_final)\n",
        "for resultado in resultados_tfidf:\n",
        "    print(f\"Título: {resultado['Title']}\\nTrama: {resultado['Plot']}\\n\")"
      ]
    },
    {
      "cell_type": "markdown",
      "metadata": {
        "id": "i1Si6bbVKFwO"
      },
      "source": [
        "# BM25"
      ]
    },
    {
      "cell_type": "markdown",
      "metadata": {},
      "source": [
        "Conexión Elasticsearch con Docker"
      ]
    },
    {
      "cell_type": "code",
      "execution_count": 47,
      "metadata": {
        "colab": {
          "base_uri": "https://localhost:8080/"
        },
        "id": "JPYoBU_MKEj_",
        "outputId": "c2bd2af7-9c9e-43dd-f309-67ee186c2ac9"
      },
      "outputs": [
        {
          "name": "stdout",
          "output_type": "stream",
          "text": [
            "Requirement already satisfied: elasticsearch in c:\\users\\dicam\\appdata\\local\\programs\\python\\python312\\lib\\site-packages (8.17.0)\n",
            "Requirement already satisfied: elastic-transport<9,>=8.15.1 in c:\\users\\dicam\\appdata\\local\\programs\\python\\python312\\lib\\site-packages (from elasticsearch) (8.17.0)\n",
            "Requirement already satisfied: urllib3<3,>=1.26.2 in c:\\users\\dicam\\appdata\\local\\programs\\python\\python312\\lib\\site-packages (from elastic-transport<9,>=8.15.1->elasticsearch) (2.2.2)\n",
            "Requirement already satisfied: certifi in c:\\users\\dicam\\appdata\\local\\programs\\python\\python312\\lib\\site-packages (from elastic-transport<9,>=8.15.1->elasticsearch) (2024.7.4)\n"
          ]
        }
      ],
      "source": [
        "!pip install elasticsearch"
      ]
    },
    {
      "cell_type": "markdown",
      "metadata": {},
      "source": [
        "Ejecutar en terminal los siguientes comandos para la conexión\n",
        "\n",
        "- docker network create elastic\n",
        "\n",
        "- docker pull docker.elastic.co/elasticsearch/elasticsearch:8.17.0\n",
        "\n",
        "- docker run -d --name elasticsearch -p 9200:9200 -e \"discovery.type=single-node\" -e \"xpack.security.enabled=false\" docker.elastic.co/elasticsearch/elasticsearch:8.17.0\n",
        "\n",
        "- curl http://localhost:9200"
      ]
    },
    {
      "cell_type": "markdown",
      "metadata": {},
      "source": [
        "Establecer la conexión con elasticsearch"
      ]
    },
    {
      "cell_type": "code",
      "execution_count": 50,
      "metadata": {
        "colab": {
          "base_uri": "https://localhost:8080/"
        },
        "id": "bo7Zdm7VwnUt",
        "outputId": "71bc977c-bace-46ea-c26c-df659a2b3b97"
      },
      "outputs": [
        {
          "name": "stdout",
          "output_type": "stream",
          "text": [
            "Conexión exitosa a Elasticsearch\n"
          ]
        }
      ],
      "source": [
        "from elasticsearch import Elasticsearch\n",
        "\n",
        "# Conexión al cliente Elasticsearch\n",
        "es = Elasticsearch(\"http://localhost:9200\")\n",
        "\n",
        "# Verificar si está conectado\n",
        "if es.ping():\n",
        "    print(\"Conexión exitosa a Elasticsearch\")\n",
        "else:\n",
        "    print(\"Error al conectar con Elasticsearch\")\n"
      ]
    },
    {
      "cell_type": "markdown",
      "metadata": {},
      "source": [
        "Creación del indice"
      ]
    },
    {
      "cell_type": "code",
      "execution_count": 51,
      "metadata": {
        "id": "ZADSnK4AwnZG"
      },
      "outputs": [
        {
          "name": "stdout",
          "output_type": "stream",
          "text": [
            "Índice 'elasticsearch_index' creado.\n"
          ]
        }
      ],
      "source": [
        "index_name = \"elasticsearch_index\"\n",
        "if not es.indices.exists(index=index_name):\n",
        "    es.indices.create(\n",
        "        index=index_name,\n",
        "        body={\n",
        "            \"mappings\": {\n",
        "                \"properties\": {\n",
        "                    \"title\": {\"type\": \"text\"},\n",
        "                    \"plot\": {\"type\": \"text\"}\n",
        "                }\n",
        "            }\n",
        "        }\n",
        "    )\n",
        "    print(f\"Índice '{index_name}' creado.\")\n",
        "else:\n",
        "    print(f\"Índice '{index_name}' ya existe.\")\n"
      ]
    },
    {
      "cell_type": "markdown",
      "metadata": {},
      "source": [
        "Indexación de peliculas"
      ]
    },
    {
      "cell_type": "code",
      "execution_count": 52,
      "metadata": {
        "id": "ak5C-iW6wnbo"
      },
      "outputs": [
        {
          "name": "stdout",
          "output_type": "stream",
          "text": [
            "Películas indexadas con éxito.\n"
          ]
        }
      ],
      "source": [
        "for _, row in df_final.iterrows():\n",
        "    doc = {\n",
        "        \"title\": row[\"Title\"],\n",
        "        \"plot\": row[\"Plot\"]\n",
        "    }\n",
        "    es.index(index=index_name, id=row[\"Title\"], document=doc)\n",
        "\n",
        "print(\"Películas indexadas con éxito.\")\n"
      ]
    },
    {
      "cell_type": "markdown",
      "metadata": {},
      "source": [
        "Función para busqueda del indice Elasticsearch"
      ]
    },
    {
      "cell_type": "code",
      "execution_count": 53,
      "metadata": {
        "id": "4Q6hVATywneC"
      },
      "outputs": [],
      "source": [
        "# Función para realizar búsqueda con BM25\n",
        "def busqueda_bm25(query, es, index_name):\n",
        "    body = {\n",
        "        \"size\": 5,\n",
        "        \"query\": {\n",
        "            \"match\": {\n",
        "                \"plot\": query\n",
        "            }\n",
        "        }\n",
        "    }\n",
        "    resultados = es.search(index=index_name, body=body)\n",
        "    return [\n",
        "        {\"Title\": hit[\"_source\"][\"title\"], \"Plot\": hit[\"_source\"][\"plot\"]}\n",
        "        for hit in resultados[\"hits\"][\"hits\"]\n",
        "    ]\n",
        "\n"
      ]
    },
    {
      "cell_type": "markdown",
      "metadata": {},
      "source": [
        "Realizar la búsqueda"
      ]
    },
    {
      "cell_type": "code",
      "execution_count": 55,
      "metadata": {
        "id": "imemQPKbwnhm"
      },
      "outputs": [
        {
          "name": "stdout",
          "output_type": "stream",
          "text": [
            "Título: Love Story 2050\n",
            "Trama: Karan Malhotra (Harman Baweja) is a spirited and happy-go-lucky boy who does not follow the rules. Sana (Priyanka Chopra) is the opposite of Karan: a sweet and shy girl who lives life by the rules. Even though they are completely opposite, they fall in love, leading to a magical love story.[9]\n",
            "A scientist, Dr. Yatinder Khanna (Boman Irani), has dedicated 15 years of his life to building a time machine. Sana expresses a wish to time-travel to Mumbai in the year 2050, but she is killed in an accident before her marriage to Karan. Karan wishes to travel back in time and find Sana. Dr. Yatinder, Karan, and Sana's siblings, Rahul and Thea, travel forward in time and reach Mumbai in 2050. They are fascinated by the futuristic Mumbai, with its flying cars, holograms, robots, 200-story buildings and more.\n",
            "Twists and turns lead to the introduction of Ziesha (Priyanka Chopra), the reincarnation of Sana. Ziesha is a popular singer in 2050 who does not remember her past life, but gets flashbacks of it after meeting Karan. Unlike Sana, Ziesha is an arrogant, headstrong and rebellious girl who does not believe in love. She leads a lonely life after the death of her parents, which has embittered her.\n",
            "Karan and the others find themselves under the threat of the demi-god, Dr. Hoshi. After Karan tells Ziesha he loves her, he is taken away from her by the guards. Ziesha does not believe him when he tells her about his time travel. However, after reading Sana's diary, Ziesha ultimately remembers her past life. Karan returns to her and she declares her love for him and tells him she is Sana. Dr. Hoshi tries to capture Karan because he wants the time machine. After a wild attempt to catch Karan and Ziesha, Hoshi crashes into a nuclear substance truck and dies. Karan goes back to 2008 in the time machine with Ziesha and the rest of his family. Everyone is overjoyed to see their beloved Sana again and Karan proposes to her.[9][10]\n",
            "\n",
            "Título: Time Chasers\n",
            "Trama: Physics teacher and amateur pilot Nick Miller (Matthew Bruch) has finally completed his quest of enabling time travel, via a Commodore 64 and his small airplane. After being inspired by a television commercial for GenCorp, he uses a ruse to bring out both a GenCorp executive and a reporter from a local paper. To Nick's surprise, the reporter is Lisa Hansen (Bonnie Pritchard), an old high school flame. One trip to 2041 later and Gencorp's executive, Matthew Paul (Peter Harrington), quickly arranges Nick a meeting with CEO J.K. Robertson (George Woodard). Impressed by the potential of time travel, Robertson offers Nick a licensing agreement on the technology.\n",
            "The following week, Nick and Lisa meet at the supermarket and go on a date to the 1950s. However, another trip to 2041 reveals that GenCorp abused Nick's time travel technology, creating a dystopian future. In an attempt to tell J.K. about how GenCorp inadvertently ruined the future. J.K. dismisses the eventuality, and states that there's enough time to worry about how to fix it before it happens. J.K. sees Nick as a threat to GenCorp, and due to the association with the U.S. Government, considers Nick's actions as treason. Nick and Lisa escape GenCorp and spend the remainder of the film trying to reverse the damage to the future. When J.K. finds out about this, he and Matt try to shoot down Nick's plane, killing Lisa in the process while Nick jumps out before the plane crashes. This ultimately culminates in a fight in 1777 during the American Revolution, the deaths of the present Nick and Robertson, and the destruction of the time machine before the original demo, thus ensuring that the majority of the film's events never happen in the first place. The film ends with the now current Nick (now aware of the danger of his time machine) sabotaging his demonstration, and doing a pitch of how an elderly skydiver would be a better ad campaign for J.K.'s company. Furious about being misled, J.K. fires Matt. Nick deletes the eight 5¼\" floppy disks that make time travel possible. At the end of the film, Nick talks to Lisa in the supermarket as he did in the previous timeline.\n",
            "\n",
            "Título: Timeranger vs. GoGoV\n",
            "Trama: In the 30th century, time travel becomes illegal after a time paradox crisis. The Time Protection Department (TPD) is established to watch for and stop time crimes. Four new enlistee cadets of the TPD are tricked by Don Dolnero and his gang into letting them time-travel to the year 2000 to commit various crimes and, to protect history, the four cadets pursue them. They encounter a severe problem: the Timeranger program requires five members for the first operation. They force a present-day martial artist, Tatsuya Asami, to join them, and they become the Timerangers. Tatsuya rents a building for them to live in, and they start a small odd-jobs business called Tomorrow Research to financially support themselves.\n",
            "Over time, the four cadets begin to realize that their presence would inevitably change the future in the form of the City Guardians, a security force under the employment of the Asami Corporation to protect the city from the Londers. The City Guardians form a tenuous relationship with the Timerangers, especially when Tatsuya's college acquaintance Naoto becomes Time Fire and later also becomes the City Guardian's captain.\n",
            "\n",
            "Título: Abby Sen\n",
            "Trama: Kolkata 2013. Abby Sen is a 30-year-old television producer. He is academically brilliant, has a strong background in science and watching science fiction films is his greatest passion. But his programmes on television are never popular and fail to make a mark on the TRP ratings. And that is perhaps the only reason why Abby has lost no less than seven jobs. Every time he is fired, his wife Somy gets hysterical and throws down everything that she could lay her hands on. So Abby has not disclosed his last dismissal to her.\n",
            "By sheer coincidence, Abby meets a self-styled scientist who claims to have discovered a time-travel capsule. The scientist volunteers to take Abby back in time when getting a job was not that difficult. But he has certain conditions, which Abby must fulfill. Finding all options bleak, Abby decides to agree to his conditions and travel 33 years back in time, that is, in 1980.\n",
            "Thereafter, a series of unforeseen incidents and intricacies of relationships make Abby’s life in 1980 as eventful as ever. But flung between the two worlds of 1980 and 2013 both in his personal and professional life, Abby represents the predicament of a man struggling to survive in this competitive world.\n",
            "\n",
            "Título: Dimensions\n",
            "Trama: The film follows Stephen, a brilliant young scientist who lives in Cambridge, England, in what appears to be the 1920s. His world is turned upside down upon meeting a charismatic and inspirational professor at a garden party, who demonstrates to Stephen and his friends what life would be like if they were one-, or two-dimensional beings. He then proceeds to explain that by manipulating other dimensions, time travel may actually be possible.\n",
            "Soon after the professor's visit, Stephan,his cousin, Conrad, and his neighbor, Victoria, were fooling around by a well. Conrad throws Victoria's skipping rope down the well. The nanny catches the boys rolling around fighting and drags them in the house by the ears leaving Victoria alone to play outside by herself. After some time, she decides to climb down the well to get her skipping rope. She never climbs out of the well and her body is never found.\n",
            "As Stephen’s life unfolds, events lead him to dedicate himself to turning the Professor’s theories of time travel into reality. Jealousy, love, obsession, temptation and greed surround him, influencing his fragile mind and the direction of his work.\n",
            "\n"
          ]
        }
      ],
      "source": [
        "# Ejemplo de búsqueda\n",
        "resultados_bm25 = busqueda_bm25(\"time travel\", es, index_name)\n",
        "for resultado in resultados_bm25:\n",
        "    print(f\"Título: {resultado['Title']}\\nTrama: {resultado['Plot']}\\n\")\n"
      ]
    },
    {
      "cell_type": "markdown",
      "metadata": {},
      "source": [
        "# FAISS"
      ]
    },
    {
      "cell_type": "code",
      "execution_count": 2,
      "metadata": {},
      "outputs": [
        {
          "name": "stdout",
          "output_type": "stream",
          "text": [
            "Requirement already satisfied: sentence-transformers in c:\\users\\dicam\\appdata\\local\\programs\\python\\python312\\lib\\site-packages (3.3.1)\n",
            "Requirement already satisfied: transformers<5.0.0,>=4.41.0 in c:\\users\\dicam\\appdata\\local\\programs\\python\\python312\\lib\\site-packages (from sentence-transformers) (4.48.0)\n",
            "Requirement already satisfied: tqdm in c:\\users\\dicam\\appdata\\local\\programs\\python\\python312\\lib\\site-packages (from sentence-transformers) (4.67.0)\n",
            "Requirement already satisfied: torch>=1.11.0 in c:\\users\\dicam\\appdata\\local\\programs\\python\\python312\\lib\\site-packages (from sentence-transformers) (2.5.1)\n",
            "Requirement already satisfied: scikit-learn in c:\\users\\dicam\\appdata\\local\\programs\\python\\python312\\lib\\site-packages (from sentence-transformers) (1.5.2)\n",
            "Requirement already satisfied: scipy in c:\\users\\dicam\\appdata\\local\\programs\\python\\python312\\lib\\site-packages (from sentence-transformers) (1.13.1)\n",
            "Requirement already satisfied: huggingface-hub>=0.20.0 in c:\\users\\dicam\\appdata\\local\\programs\\python\\python312\\lib\\site-packages (from sentence-transformers) (0.27.1)\n",
            "Requirement already satisfied: Pillow in c:\\users\\dicam\\appdata\\local\\programs\\python\\python312\\lib\\site-packages (from sentence-transformers) (11.0.0)\n",
            "Requirement already satisfied: filelock in c:\\users\\dicam\\appdata\\local\\programs\\python\\python312\\lib\\site-packages (from huggingface-hub>=0.20.0->sentence-transformers) (3.16.1)\n",
            "Requirement already satisfied: fsspec>=2023.5.0 in c:\\users\\dicam\\appdata\\local\\programs\\python\\python312\\lib\\site-packages (from huggingface-hub>=0.20.0->sentence-transformers) (2024.12.0)\n",
            "Requirement already satisfied: packaging>=20.9 in c:\\users\\dicam\\appdata\\local\\programs\\python\\python312\\lib\\site-packages (from huggingface-hub>=0.20.0->sentence-transformers) (24.1)\n",
            "Requirement already satisfied: pyyaml>=5.1 in c:\\users\\dicam\\appdata\\local\\programs\\python\\python312\\lib\\site-packages (from huggingface-hub>=0.20.0->sentence-transformers) (6.0.2)\n",
            "Requirement already satisfied: requests in c:\\users\\dicam\\appdata\\local\\programs\\python\\python312\\lib\\site-packages (from huggingface-hub>=0.20.0->sentence-transformers) (2.32.3)\n",
            "Requirement already satisfied: typing-extensions>=3.7.4.3 in c:\\users\\dicam\\appdata\\local\\programs\\python\\python312\\lib\\site-packages (from huggingface-hub>=0.20.0->sentence-transformers) (4.12.2)\n",
            "Requirement already satisfied: networkx in c:\\users\\dicam\\appdata\\local\\programs\\python\\python312\\lib\\site-packages (from torch>=1.11.0->sentence-transformers) (3.4.2)\n",
            "Requirement already satisfied: jinja2 in c:\\users\\dicam\\appdata\\local\\programs\\python\\python312\\lib\\site-packages (from torch>=1.11.0->sentence-transformers) (3.1.4)\n",
            "Requirement already satisfied: setuptools in c:\\users\\dicam\\appdata\\local\\programs\\python\\python312\\lib\\site-packages (from torch>=1.11.0->sentence-transformers) (75.1.0)\n",
            "Requirement already satisfied: sympy==1.13.1 in c:\\users\\dicam\\appdata\\local\\programs\\python\\python312\\lib\\site-packages (from torch>=1.11.0->sentence-transformers) (1.13.1)\n",
            "Requirement already satisfied: mpmath<1.4,>=1.1.0 in c:\\users\\dicam\\appdata\\local\\programs\\python\\python312\\lib\\site-packages (from sympy==1.13.1->torch>=1.11.0->sentence-transformers) (1.3.0)\n",
            "Requirement already satisfied: colorama in c:\\users\\dicam\\appdata\\local\\programs\\python\\python312\\lib\\site-packages (from tqdm->sentence-transformers) (0.4.6)\n",
            "Requirement already satisfied: numpy>=1.17 in c:\\users\\dicam\\appdata\\local\\programs\\python\\python312\\lib\\site-packages (from transformers<5.0.0,>=4.41.0->sentence-transformers) (1.26.4)\n",
            "Requirement already satisfied: regex!=2019.12.17 in c:\\users\\dicam\\appdata\\local\\programs\\python\\python312\\lib\\site-packages (from transformers<5.0.0,>=4.41.0->sentence-transformers) (2024.11.6)\n",
            "Requirement already satisfied: tokenizers<0.22,>=0.21 in c:\\users\\dicam\\appdata\\local\\programs\\python\\python312\\lib\\site-packages (from transformers<5.0.0,>=4.41.0->sentence-transformers) (0.21.0)\n",
            "Requirement already satisfied: safetensors>=0.4.1 in c:\\users\\dicam\\appdata\\local\\programs\\python\\python312\\lib\\site-packages (from transformers<5.0.0,>=4.41.0->sentence-transformers) (0.5.2)\n",
            "Requirement already satisfied: joblib>=1.2.0 in c:\\users\\dicam\\appdata\\local\\programs\\python\\python312\\lib\\site-packages (from scikit-learn->sentence-transformers) (1.4.2)\n",
            "Requirement already satisfied: threadpoolctl>=3.1.0 in c:\\users\\dicam\\appdata\\local\\programs\\python\\python312\\lib\\site-packages (from scikit-learn->sentence-transformers) (3.5.0)\n",
            "Requirement already satisfied: MarkupSafe>=2.0 in c:\\users\\dicam\\appdata\\local\\programs\\python\\python312\\lib\\site-packages (from jinja2->torch>=1.11.0->sentence-transformers) (2.1.5)\n",
            "Requirement already satisfied: charset-normalizer<4,>=2 in c:\\users\\dicam\\appdata\\local\\programs\\python\\python312\\lib\\site-packages (from requests->huggingface-hub>=0.20.0->sentence-transformers) (3.3.2)\n",
            "Requirement already satisfied: idna<4,>=2.5 in c:\\users\\dicam\\appdata\\local\\programs\\python\\python312\\lib\\site-packages (from requests->huggingface-hub>=0.20.0->sentence-transformers) (3.7)\n",
            "Requirement already satisfied: urllib3<3,>=1.21.1 in c:\\users\\dicam\\appdata\\local\\programs\\python\\python312\\lib\\site-packages (from requests->huggingface-hub>=0.20.0->sentence-transformers) (2.2.2)\n",
            "Requirement already satisfied: certifi>=2017.4.17 in c:\\users\\dicam\\appdata\\local\\programs\\python\\python312\\lib\\site-packages (from requests->huggingface-hub>=0.20.0->sentence-transformers) (2024.7.4)\n",
            "Note: you may need to restart the kernel to use updated packages.\n"
          ]
        }
      ],
      "source": [
        "!pip install faiss-cpu\n",
        "!pip install sentence-transformers"
      ]
    },
    {
      "cell_type": "code",
      "execution_count": 19,
      "metadata": {},
      "outputs": [],
      "source": [
        "from sentence_transformers import SentenceTransformer\n",
        "import faiss\n",
        "import numpy as np\n",
        "\n",
        "# Crear embeddings con Sentence Transformers\n",
        "modelo = SentenceTransformer('all-MiniLM-L6-v2')\n",
        "embeddings = modelo.encode(df_final['Plot'].tolist())\n"
      ]
    },
    {
      "cell_type": "code",
      "execution_count": 23,
      "metadata": {},
      "outputs": [],
      "source": [
        "# Crear índice FAISS\n",
        "dimension = embeddings.shape[1]\n",
        "indice_faiss = faiss.IndexFlatL2(dimension)\n",
        "indice_faiss.add(embeddings)"
      ]
    },
    {
      "cell_type": "code",
      "execution_count": 24,
      "metadata": {},
      "outputs": [],
      "source": [
        "# Función para búsqueda con FAISS\n",
        "def busqueda_faiss(consulta, modelo, indice_faiss, df):\n",
        "    consulta_vector = modelo.encode([consulta])\n",
        "    _, indices = indice_faiss.search(np.array(consulta_vector).astype('float32'), 5)\n",
        "    resultados = df.iloc[indices[0]][['Title', 'Plot']].to_dict('records')\n",
        "    return resultados"
      ]
    },
    {
      "cell_type": "code",
      "execution_count": 25,
      "metadata": {},
      "outputs": [
        {
          "name": "stdout",
          "output_type": "stream",
          "text": [
            "Título: Dimensions\n",
            "Trama: The film follows Stephen, a brilliant young scientist who lives in Cambridge, England, in what appears to be the 1920s. His world is turned upside down upon meeting a charismatic and inspirational professor at a garden party, who demonstrates to Stephen and his friends what life would be like if they were one-, or two-dimensional beings. He then proceeds to explain that by manipulating other dimensions, time travel may actually be possible.\n",
            "Soon after the professor's visit, Stephan,his cousin, Conrad, and his neighbor, Victoria, were fooling around by a well. Conrad throws Victoria's skipping rope down the well. The nanny catches the boys rolling around fighting and drags them in the house by the ears leaving Victoria alone to play outside by herself. After some time, she decides to climb down the well to get her skipping rope. She never climbs out of the well and her body is never found.\n",
            "As Stephen’s life unfolds, events lead him to dedicate himself to turning the Professor’s theories of time travel into reality. Jealousy, love, obsession, temptation and greed surround him, influencing his fragile mind and the direction of his work.\n",
            "\n",
            "Título: 11 A.M.\n",
            "Trama: In the not-so distant future, researchers at a deep-sea laboratory have finally invented a time machine. The device can move objects ahead 24 hours, but the scientists have never tried it on people before. Head researcher Woo-seok is promised major funding from a mega-corporation if he completes a test run. Along with his assistant Young-eun, he schedules a jump to 11 a.m. the next day. Upon their successful arrival, they find the base in pandemonium, while the other researchers have disappeared. What's more, someone is out to get them. With the surveillance camera recordings as the sole clue, they must investigate for the next 24 hours the mysterious happenings that occurred at the lab, figure out what happened over the past day and go back in time in order to prevent it.[5]\n",
            "\n",
            "Título: The Time Machine\n",
            "Trama: In 1899, Dr. Alexander Hartdegen is an inventor teaching at Columbia University in New York City. Unlike his friend David Philby, Alexander would rather do pure research than work in the world of business. After a mugger kills his fiancée, Emma, he devotes himself to building a time machine that will allow him to travel back in time to save her. When he completes the machine four years later, he travels back to 1899 and prevents her murder, only to see her killed again when a horseless carriage frightens the horses of a horse-drawn vehicle.\n",
            "Alexander realizes that any attempt to save Emma will result in her death through other circumstances. Distraught, Alexander travels to 2030 to discover whether science has been able to solve his question of how to change the past. At the New York Public Library, a holographic librarian called Vox 114 insists that time travel is impossible. Alexander travels to 2037, when the accidental destruction of the Moon by lunar colonists has begun rendering the Earth virtually uninhabitable. While restarting the time machine to avoid debris, he is knocked unconscious and travels to the year 802,701 before reawakening.\n",
            "The human race has reverted to a primitive lifestyle and the Earth has healed. Some survivors, called \"Eloi\", live on the sides of cliffs of what was once Manhattan. Alexander is nursed back to health by a woman named Mara, one of the few Eloi who speak English. He observes the broken moon and suggests that maybe his teachings led to this future. One night, Alexander and Mara's young brother, Kalen, dream of a frightening, jagged-toothed face and a creature calling their name. Alexander informs Mara of the dream and she tells him they all have that dream, and she notices that his watch is missing. The next day, the Eloi are attacked and Mara is dragged underground by ape-like monsters. The creatures are called \"Morlocks\" and they hunt the Eloi for food. In order to rescue her, Kalen leads Alexander to Vox 114, which is still functional after 800,000 years.\n",
            "After learning from Vox how to find the Morlocks, Alexander enters their underground lair through an opening that resembles the face in his nightmare. He is captured and thrown into an area where Mara sits in a cage. Alexander meets an intelligent, humanoid Morlock, who explains that Morlocks are the evolutionary descendants of the humans who went underground after the Moon broke apart, while the Eloi are evolved from those who remained on the surface. The humanoid Morlocks are a caste of telepaths who rule the other Morlocks.\n",
            "The Morlock explains that Alexander cannot alter Emma's fate, because her death is what drove him to build the time machine in the first place: saving her would be a virtual impossibility due to temporal paradox. He then reveals that the Morlocks have brought the time machine underground, and tells Alexander to get into it and return home. Alexander gets into the machine but pulls the Morlock in with him, carrying them into the future as they fight. The Morlock dies by rapidly aging when Alexander pushes him outside of the machine's temporal bubble. Alexander stops in the year 635,427,810, revealing a harsh, rust-colored sky over a wasteland of Morlock caves.\n",
            "Accepting that he cannot save Emma, Alexander travels back to rescue Mara. After freeing her, he starts the time machine and jams its gears, creating a violent distortion in time. Pursued by the Morlocks, Alexander and Mara escape to the surface as the time distortion explodes, killing the Morlocks and destroying their caves along with the time machine. Alexander begins a new life with Mara and the Eloi.\n",
            "In 1903, Philby and Mrs. Watchit, Alexander's housekeeper, are in his laboratory discussing his absence. Philby tells Mrs. Watchit he is glad that Alexander has gone to a place where he can find peace, then tells her that he would like to hire her as a housekeeper, which she accepts until Alexander returns. Mrs. Watchit bids Alexander farewell and Philby leaves, looking toward the laboratory affectionately, then throws his bowler hat away in tribute to Alexander's distaste for conformity.\n",
            "\n",
            "Título: Idaho Transfer\n",
            "Trama: Teenager Karen Braden (Kelley Bohanon) is a troubled mental hospital outpatient who is taken by her father George and sister Isa to a government facility near the Craters of the Moon lava fields in Idaho. The project there was commissioned to develop matter transference, but made a different discovery: time travel. They also discovered that a mysterious ecological catastrophe will soon wipe out civilization.\n",
            "The time travel process has negative health effects, though. Adults \"not much older than 20\" are unable to survive for long, as their kidneys hemorrhage shortly after the experience. So the scientists decide to only send young people 56 years into the future so they can build a new civilization.\n",
            "After the government takes over the project, the transfer machines are turned off, trapping a large number of project members in the future. Now trapped, they begin exploring the future world. The last survivor from the project is picked up by a family dressed in futuristic clothing. She is placed alive in the trunk of their car, ostensibly to be used as fuel. The small girl in the back seat asks what will happen when they run out of them (people from the past ?) \"Will we have to use each other, then?\"\n",
            "\n",
            "Título: Timequest\n",
            "Trama: Timequest explores the science fiction theme of altering the present day by traveling back in time and tampering with past events. In this particular film, on the morning of November 22, 1963, a elderly man (Ralph Waite) who wears spacesuit-type clothing materializes in the hotel suite occupied by Jackie Kennedy (Caprice Benedetti). The Time Traveler shows Jackie future television footage of the assassination and funeral of John F. Kennedy (Victor Slezak). Shortly thereafter, the Time Traveler speaks to the president and to the cynical Attorney General Bobby Kennedy (Vince Grant), giving them details of their respective assassinations (as it takes the Time Traveler quite a bit to convince Robert Kennedy that he is who he says he is as Kennedy attempts to debunk the Time Traveler's story) and of the public revelations of JFK's sex scandals, convincing the president to remain faithful to his wife. The Time Traveler, knowing Bobby's ways, won't state his name or his birthplace, but does mention that he was born on this day. The Time Traveler asks Jackie to dance with him; she does (the Time Traveler is obsessed with Jackie Kennedy).\n",
            "The Time Traveler and the three Kennedys drink a toast in the hotel suite just before 12:30 pm, which is the time that history is definitely changed (JFK is shot-JFK is not shot). At 12:30 the Time Traveler turns into nothingness, and the lead-crystal glass that he was holding drops to the floor and shatters. Bobby finds a piece of glass with the Time Traveler's fingerprint on it. Lee Harvey Oswald (Jeffery Steiger) is captured, and Jack Ruby is killed before he can shoot Oswald. Clint Hill and Bobby Kennedy head to the grassy knoll and Hill takes out two gunman (indicating the film producers' belief in the conspiracy theories about the assassination). Oswald is taken to Washington, D.C. and interrogated by the Warren Commission; as a result, the CIA is disbanded. When J. Edgar Hoover threatens to blackmail the President by revealing audio tapes of Kennedy having sex with Marilyn Monroe, Robert Kennedy counters by threatening to release photos of Hoover's alleged homosexuality. When Hoover caves in and agrees to hand over the tapes, Robert Kennedy also demands Hoover hand in his letter of resignation.\n",
            "Similar to a future situation, John and Jackie Kennedy appear on television. John reveals his infidelities and asks for forgiveness from both his wife and the nation. Jackie stands with her husband and asks the country to do the same.\n",
            "Bobby Kennedy is also determined to uncover the Time Traveler's identity in order to prevent him from eventually inventing time travel, but a pregnant Jackie exacts an iron promise from Bobby that the Time Traveler would never be harmed. As it turns out, the Time Traveler is Raymond Mead (Joseph Murphy) (who is, like his alternate self, obsessed with Jackie Kennedy). At sixteen he commits a burglary, is arrested and put on a prison bus; his fingerprinting enables President Bobby Kennedy to know the Time Traveler's name. President Bobby has the teenager pulled off the bus, he talks to the kid, and he gives Mead a full pardon.\n",
            "Years later in 1994, when Mead has become an artist and is now married, an elderly Jackie buys many of his paintings. In 2001, after JFK dies of old age (and Jackie is already dead), their youngest son James Robert Kennedy (Rick Gianasi) explains to Mead why the Kennedy family has been so generous to him and reveals a portrait of his older self. The film later ends with Ray's younger self dancing with Jackie in 1963 as a dream sequence and Ray as a Baby in 1964 staring at the televised footage of Jackie outside Parkland Hospital (where her Husband was originally meant to die in the old time stream) with James as a baby on his TV.\n",
            "\n"
          ]
        }
      ],
      "source": [
        "# Ejemplo de búsqueda\n",
        "resultados_faiss = busqueda_faiss(\"time travel\", modelo, indice_faiss, df_final)\n",
        "for resultado in resultados_faiss:\n",
        "    print(f\"Título: {resultado['Title']}\\nTrama: {resultado['Plot']}\\n\")\n"
      ]
    },
    {
      "cell_type": "markdown",
      "metadata": {},
      "source": [
        "# Chroma"
      ]
    },
    {
      "cell_type": "code",
      "execution_count": null,
      "metadata": {},
      "outputs": [],
      "source": [
        "import torch\n",
        "print(torch.cuda.is_available())\n",
        "print(torch.version.cuda)\n",
        "print(torch.cuda.get_device_name(0) if torch.cuda.is_available() else \"No GPU found\")\n"
      ]
    },
    {
      "cell_type": "code",
      "execution_count": null,
      "metadata": {},
      "outputs": [
        {
          "name": "stdout",
          "output_type": "stream",
          "text": [
            "Usando el dispositivo: cuda\n",
            "Lote 1 procesado exitosamente.\n",
            "Lote 2 procesado exitosamente.\n",
            "Lote 3 procesado exitosamente.\n",
            "Lote 4 procesado exitosamente.\n",
            "Lote 5 procesado exitosamente.\n",
            "Lote 6 procesado exitosamente.\n",
            "Lote 7 procesado exitosamente.\n",
            "Se han agregado 34886 documentos y generado sus embeddings.\n"
          ]
        }
      ],
      "source": [
        "import pandas as pd\n",
        "import chromadb\n",
        "from chromadb.utils import embedding_functions\n",
        "import torch\n",
        "\n",
        "# Verificar si la GPU está disponible\n",
        "device = \"cuda\" if torch.cuda.is_available() else \"cpu\"\n",
        "print(f\"Usando el dispositivo: {device}\")\n",
        "\n",
        "# Filtrar campos necesarios\n",
        "movies_df = df_final[df_final['Plot'].notna()]\n",
        "documents = movies_df['Plot'].tolist()  \n",
        "titles = movies_df['Title'].tolist()  \n",
        "\n",
        "# Configurar cliente Chroma\n",
        "client = chromadb.Client()\n",
        "\n",
        "# Crear la función de embeddings con GPU\n",
        "embedding_function = embedding_functions.SentenceTransformerEmbeddingFunction(\n",
        "    model_name=\"all-MiniLM-L6-v2\",  \n",
        "    device=device  \n",
        ")\n",
        "\n",
        "# Crear colección con la función de embeddings configurada\n",
        "collection = client.get_or_create_collection(\n",
        "    name=\"movies_collection\",\n",
        "    embedding_function=embedding_function\n",
        ")\n",
        "\n",
        "# Generar IDs únicos para cada documento\n",
        "ids = [f\"movie_{i}\" for i in range(len(movies_df))]\n",
        "\n",
        "# Dividir los datos en lotes\n",
        "batch_size = 5000  # Tamaño del lote\n",
        "for i in range(0, len(documents), batch_size):\n",
        "    batch_documents = documents[i:i+batch_size]\n",
        "    batch_titles = titles[i:i+batch_size]\n",
        "    batch_ids = ids[i:i+batch_size]\n",
        "    \n",
        "    # Agregar el lote a la colección\n",
        "    collection.add(\n",
        "        documents=batch_documents, \n",
        "        metadatas=[{\"title\": title} for title in batch_titles],  \n",
        "        ids=batch_ids  \n",
        "    )\n",
        "    print(f\"Lote {i // batch_size + 1} procesado exitosamente.\")\n",
        "\n",
        "print(f\"Se han agregado {len(documents)} documentos y generado sus embeddings.\")\n"
      ]
    },
    {
      "cell_type": "code",
      "execution_count": null,
      "metadata": {},
      "outputs": [
        {
          "name": "stdout",
          "output_type": "stream",
          "text": [
            "Resultado 1:\n",
            "Trama: An investigative thriller based on the search for a missing youngster.\n",
            "--------------------------------------------------\n",
            "Resultado 2:\n",
            "Trama: A young boy from the lower caste resorts to petty thefts to make both ends meet after he lost his father at the early age. Once the boy realizes the importance of an education, he begins to improve his life and never looks back. Through diligence and dedication, he climbs the social and political ladder to success.\n",
            "--------------------------------------------------\n",
            "Resultado 3:\n",
            "Trama: Thirteen-year-old Jesse is assigned a school project. A photographic self-portrait intended to portray one’s self without resorting to literal representation. Jesse lives with his parents, Sabi and Tim, in the lefty, middle class Toronto neighbourhood of Riverdale. A quiet and distant only-child with budding artistic aspirations, Jesse is inspired by the assignment to look for excitement and meaning in the world around him. Wielding a newly acquired camera, Jesse sets out to capture his surroundings, but soon realizes the undramatic nature of his family, neighbourhood and existence.\n",
            "Meanwhile, Sabi and Tim find themselves questioning Jesse’s developing character as they watch him abandon his childhood personality and mature into an uncommunicative adolescent. Frustrated by his lack of inspiration, Jesse discovers a book in the school library which advises him: “You can never be a real artist until you have made love to a woman.” Taking the text at face value and with the encouragement of a family friend, Jesse begins to look for incident, both foreign and adult, which leads him to an encounter with his young, female neighbour, Amy. Peering into her window at night, he snaps a quick photograph of her.\n",
            "Days later, the two are inadvertently reunited, allowing Jesse an opportunity to explore his prepubescent fascination with the opposite sex. After a long evening of games, exploration and hypnosis, Jesse awakes with confusion and guilt, unsure whether or not he may have overstepped his boundaries. The question of rape consumes his thoughts and Jesse is left struggling to reconcile his uneasy mind.\n",
            "--------------------------------------------------\n",
            "Resultado 4:\n",
            "Trama: A young scientist search for the mysterious events behind the strange deaths of cattles and bright lights in sky. He sets on a journey to find the truth and fears of something more frightening to come.\n",
            "--------------------------------------------------\n",
            "Resultado 5:\n",
            "Trama: Drama about a 12-year-old boy who fantasises about having enough money to be able to cure his grandmother's serious heart condition. When he finds himself in a haunted house, the mysterious owner 'grants' him one wish - the Midas touch. The boy soon learns that it is more of a curse than a blessing when everything he touches turns into gold.\n",
            "--------------------------------------------------\n"
          ]
        }
      ],
      "source": [
        "# Definir una consulta\n",
        "query = \"young boy\"\n",
        "\n",
        "# Realizar la consulta en la colección\n",
        "results = collection.query(\n",
        "    query_texts=[query],  \n",
        "    n_results=5  \n",
        ")\n",
        "\n",
        "# Mostrar los resultados\n",
        "for i, document in enumerate(results['documents'][0]):\n",
        "    print(f\"Resultado {i + 1}:\")\n",
        "    print(f\"Trama: {document}\")\n",
        "    print(\"-\" * 50)\n"
      ]
    }
  ],
  "metadata": {
    "colab": {
      "provenance": []
    },
    "kernelspec": {
      "display_name": "Python 3",
      "name": "python3"
    },
    "language_info": {
      "codemirror_mode": {
        "name": "ipython",
        "version": 3
      },
      "file_extension": ".py",
      "mimetype": "text/x-python",
      "name": "python",
      "nbconvert_exporter": "python",
      "pygments_lexer": "ipython3",
      "version": "3.12.5"
    }
  },
  "nbformat": 4,
  "nbformat_minor": 0
}
